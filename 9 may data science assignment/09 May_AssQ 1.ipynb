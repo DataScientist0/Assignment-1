{
 "cells": [
  {
   "cell_type": "markdown",
   "id": "045dcf71-13b5-4983-8f88-09a4995d5b46",
   "metadata": {},
   "source": [
    " Q1. Create one variable containing following type of data:\n",
    "(i) string\n",
    "(ii) list\n",
    "(iii) float\n",
    "(iv) tuple"
   ]
  },
  {
   "cell_type": "markdown",
   "id": "07a6408c-9243-42c8-984c-8945fd6ddc1a",
   "metadata": {},
   "source": [
    "my_string= \"Shivam\"\n",
    "my_list= [\"Aakash\", 34.34, 2+4J, 98, True]\n",
    "my_float= 39.33\n",
    "my_tuple= (\"Aakash\", 34.34, 2+4J, 98, True)"
   ]
  },
  {
   "cell_type": "markdown",
   "id": "8b450272-66f8-4743-8f1d-dc99993e8a1a",
   "metadata": {},
   "source": [
    "Q2. Given are some following variables containing data:\n",
    "(i) var1 = ‘ ‘\n",
    "(ii) var2 = ‘[ DS , ML , Python]’\n",
    "(iii) var3 = [ ‘DS’ , ’ML’ , ‘Python’ ]\n",
    "(iv) var4 = 1.\n",
    "What will be the data type of the above given variable."
   ]
  },
  {
   "cell_type": "markdown",
   "id": "17f5d519-0a1b-4d28-9c18-ef248f3172d5",
   "metadata": {},
   "source": [
    "(i) var1=' '   In var1 '  '  inverted comma is denoted to string data type.\n",
    "(ii) var2= ‘[ DS , ML , Python]’  In var2 ' ' inverted comma is denoted to string data type.\n",
    "(iii) var3=  [ ‘DS’ , ’ML’ , ‘Python’ ] In var3 [  ] bracket is denoted the list data type.\n",
    "(iv) var4= 1.  In var4 . dot value is denoted that this is float data type.\n"
   ]
  },
  {
   "cell_type": "markdown",
   "id": "c7952ee4-8a9b-438e-974b-ff9c56d86932",
   "metadata": {},
   "source": [
    "Q3. Explain the use of the following operators using an example:\n",
    "(i) /\n",
    "(ii) %\n",
    "(iii) //\n",
    "(iv) **"
   ]
  },
  {
   "cell_type": "markdown",
   "id": "a640850a-7ab6-4388-b52a-f4cb75834c48",
   "metadata": {},
   "source": [
    "These 4 are the arthimetic operators where :\n",
    "(i) / division opertor  where left operand divides by the right operand\n",
    "    for example- 4/2 = 2\n",
    "\n",
    "(ii) % modulus operator where modulus operator gives he remainder after dividing the left operand to the right operand\n",
    "    for example- 10%4= 2\n",
    "\n",
    "\n",
    "(iii) // floor divison operator where floor division  divides two number but gives the quotient but removes the decimal place but in case of negative value it floors the no to far from zero.\n",
    "     for example- 15//7= 2\n",
    "\n",
    "(iv) ** exponent operator  where exponent operator uses to return exponential value (power)\n",
    "    for example- 5**3= 125\n"
   ]
  },
  {
   "cell_type": "markdown",
   "id": "01d368fe-a381-48fa-b94c-5c1b4baffa34",
   "metadata": {},
   "source": [
    "Q4. Create a list of length 10 of your choice containing multiple types of data. Using for loop print the\n",
    "element and its data type."
   ]
  },
  {
   "cell_type": "code",
   "execution_count": 2,
   "id": "a30c6d1f-03cc-4a15-b40b-c3cb5b4dd7a4",
   "metadata": {},
   "outputs": [
    {
     "name": "stdout",
     "output_type": "stream",
     "text": [
      "shivam <class 'str'>\n",
      "True <class 'bool'>\n",
      "False <class 'bool'>\n",
      "94.54 <class 'float'>\n",
      "(7+2j) <class 'complex'>\n"
     ]
    }
   ],
   "source": [
    "my_list= ['shivam', True , False, 94.54, 7+2j]\n",
    "for i in my_list:\n",
    "        print(i,type(i))"
   ]
  },
  {
   "cell_type": "markdown",
   "id": "3b6c5f7b-2328-4c1e-bfcd-da253e3178c9",
   "metadata": {},
   "source": [
    "Q5. Using a while loop, verify if the number A is purely divisible by number B and if so then how many\n",
    "times it can be divisible."
   ]
  },
  {
   "cell_type": "code",
   "execution_count": null,
   "id": "60866805-8558-4db3-85d2-66bc56fd5b8d",
   "metadata": {},
   "outputs": [],
   "source": []
  },
  {
   "cell_type": "markdown",
   "id": "393cb61e-52c4-4d88-8b64-2234f8ad415e",
   "metadata": {},
   "source": [
    "Q6. Create a list containing 25 int type data. Using for loop and if-else condition print if the element is\n",
    "divisible by 3 or not."
   ]
  },
  {
   "cell_type": "code",
   "execution_count": 28,
   "id": "66cb8964-b2d3-408e-8587-34142e071279",
   "metadata": {},
   "outputs": [
    {
     "name": "stdout",
     "output_type": "stream",
     "text": [
      "1\n",
      " Number 1 is not divisible by 3\n",
      "2\n",
      " Number 2 is not divisible by 3\n",
      "3\n",
      " Yes number 3 is divisible by 3\n",
      "4\n",
      " Number 4 is not divisible by 3\n",
      "5\n",
      " Number 5 is not divisible by 3\n",
      "6\n",
      " Yes number 6 is divisible by 3\n",
      "7\n",
      " Number 7 is not divisible by 3\n",
      "8\n",
      " Number 8 is not divisible by 3\n",
      "9\n",
      " Yes number 9 is divisible by 3\n",
      "10\n",
      " Number 10 is not divisible by 3\n",
      "11\n",
      " Number 11 is not divisible by 3\n",
      "12\n",
      " Yes number 12 is divisible by 3\n",
      "13\n",
      " Number 13 is not divisible by 3\n",
      "14\n",
      " Number 14 is not divisible by 3\n",
      "15\n",
      " Yes number 15 is divisible by 3\n",
      "16\n",
      " Number 16 is not divisible by 3\n",
      "17\n",
      " Number 17 is not divisible by 3\n",
      "18\n",
      " Yes number 18 is divisible by 3\n",
      "19\n",
      " Number 19 is not divisible by 3\n",
      "20\n",
      " Number 20 is not divisible by 3\n",
      "21\n",
      " Yes number 21 is divisible by 3\n",
      "22\n",
      " Number 22 is not divisible by 3\n",
      "23\n",
      " Number 23 is not divisible by 3\n",
      "24\n",
      " Yes number 24 is divisible by 3\n",
      "25\n",
      " Number 25 is not divisible by 3\n"
     ]
    }
   ],
   "source": [
    "My_list= list(range(1,26))\n",
    "for i in My_list:\n",
    "    print(i)\n",
    "    if i%3==0:\n",
    "        print(f\" Yes number {i} is divisible by 3\")\n",
    "    else:\n",
    "            print(f\" Number {i} is not divisible by 3\")"
   ]
  },
  {
   "cell_type": "markdown",
   "id": "9781585e-9d4b-4d0b-bd26-0043e238b4c1",
   "metadata": {},
   "source": [
    "Q7. What do you understand about mutable and immutable data types? Give examples for both showing this property."
   ]
  },
  {
   "cell_type": "markdown",
   "id": "126e306b-c01f-44d1-bb54-c8f9499dce6b",
   "metadata": {},
   "source": [
    "First we understand mutability- What is mutability?\n",
    "\n",
    "The property of data objects can be modified or not in the same memory location where they are store is called mutability.\n",
    "\n",
    "second one is Mutable. If the memory location remains the same, when the data object is modified, it means it is mutable. \n",
    "\n",
    "And how to check the memory location were data stored here is a inbuilt function in python - id ()\n",
    "\n",
    "a=[10,25,59]\n",
    "id(a)\n",
    "140215187582144\n",
    "a[2]= 45\n",
    "print(a)\n",
    "[10, 25, 45]\n",
    "140215187582144\n",
    "\n",
    "Notice- the memory location has not change the memory loacation is remains same (140215187582144) after and before changing in variable that called a mutable object.\n",
    "\n",
    "also notice- that list is also mutable. that location can't be modified after changing the variable.\n",
    "\n",
    "Secand example- Immutable object- (reverse of mutable.)\n",
    "\n",
    "if the memory location can be changed after changing the variable that's called this is a Immutable object.\n",
    "\n",
    "let see an example of an immutable object.\n",
    "\n",
    "example- b= (14,15,18)\n",
    "    \n",
    "  \n",
    "# print(type(b))\n",
    "# <class 'tuple'>\n",
    "# id(b)\n",
    "# 140215239733440\n",
    "# b[1]=12\n",
    "# error syntax\n",
    "\n",
    "that's means the tuple is immutable object\n",
    "\n",
    "here is the example of immutable or mutable -\n",
    "                                             (Immutable)      ( Mutable )\n",
    "                                             \n",
    "                                               numeric          Dictonary\n",
    "                                               string           list\n",
    "                                               tuple            set\n",
    "                                                \n",
    "                                                \n",
    "                                                \n",
    "                                                \n"
   ]
  },
  {
   "cell_type": "code",
   "execution_count": 12,
   "id": "fb75e674-1939-4027-b702-cca78b57d20d",
   "metadata": {},
   "outputs": [],
   "source": []
  }
 ],
 "metadata": {
  "kernelspec": {
   "display_name": "Python 3 (ipykernel)",
   "language": "python",
   "name": "python3"
  },
  "language_info": {
   "codemirror_mode": {
    "name": "ipython",
    "version": 3
   },
   "file_extension": ".py",
   "mimetype": "text/x-python",
   "name": "python",
   "nbconvert_exporter": "python",
   "pygments_lexer": "ipython3",
   "version": "3.10.8"
  }
 },
 "nbformat": 4,
 "nbformat_minor": 5
}
